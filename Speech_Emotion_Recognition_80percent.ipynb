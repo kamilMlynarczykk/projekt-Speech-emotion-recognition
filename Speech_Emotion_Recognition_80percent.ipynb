{
  "cells": [
    {
      "cell_type": "markdown",
      "metadata": {
        "id": "view-in-github",
        "colab_type": "text"
      },
      "source": [
        "<a href=\"https://colab.research.google.com/github/kamilMlynarczykk/projekt-Speech-emotion-recognition/blob/main/Speech_Emotion_Recognition_80percent.ipynb\" target=\"_parent\"><img src=\"https://colab.research.google.com/assets/colab-badge.svg\" alt=\"Open In Colab\"/></a>"
      ]
    },
    {
      "cell_type": "markdown",
      "metadata": {
        "id": "YBqCruHhi3g4"
      },
      "source": [
        "## 1. Wypakowywanie folderow .zip z plikami audio\n"
      ]
    },
    {
      "cell_type": "code",
      "execution_count": null,
      "metadata": {
        "id": "j0mhkeeOie00"
      },
      "outputs": [],
      "source": [
        "!unzip /content/drive/MyDrive/WUM/Recordings/CREMAD.zip -d /content/CREMAD\n",
        "!unzip /content/drive/MyDrive/WUM/Recordings/TESS.zip -d /content/TESS\n",
        "!unzip /content/drive/MyDrive/WUM/Recordings/SAVEE.zip -d /content/SAVEE\n",
        "!unzip /content/drive/MyDrive/WUM/Recordings/RAVDESS.zip -d /content/RAVDESS"
      ]
    },
    {
      "cell_type": "markdown",
      "metadata": {
        "id": "NoHKKkeXiyjJ"
      },
      "source": [
        "## 2. Wczytywanie ścieżek z folderów i zapis jako dataframe do pliku CSV\n"
      ]
    },
    {
      "cell_type": "code",
      "execution_count": 33,
      "metadata": {
        "id": "RjEnFnIci_Wk"
      },
      "outputs": [],
      "source": [
        "import time\n",
        "\n",
        "import pandas\n",
        "import pandas as pd\n",
        "import numpy as np\n",
        "import os\n",
        "import seaborn as sns\n",
        "import matplotlib.pyplot as plt\n",
        "import librosa\n",
        "import librosa.display\n",
        "\n",
        "\n",
        "import warnings\n",
        "warnings.filterwarnings('ignore')"
      ]
    },
    {
      "cell_type": "markdown",
      "metadata": {
        "id": "3h9oAY43GLh3"
      },
      "source": [
        "### Wczytanie ścieżek i etykiet następnie zapis do list"
      ]
    },
    {
      "cell_type": "code",
      "execution_count": 34,
      "metadata": {
        "colab": {
          "base_uri": "https://localhost:8080/"
        },
        "id": "kHGVDQB4jGIk",
        "outputId": "c81ed08d-95fa-402d-f988-b3476b6ec686"
      },
      "outputs": [
        {
          "output_type": "stream",
          "name": "stdout",
          "text": [
            "CREMA dataset is Loaded\n",
            "7442\n",
            "TESS dataset is Loaded\n",
            "9842\n",
            "RAVDESS dataset is Loaded\n",
            "10898\n",
            "SAVEE dataset is loaded\n",
            "11318\n"
          ]
        }
      ],
      "source": [
        "# Initialize lists to store paths and labels\n",
        "paths = []\n",
        "labels = []\n",
        "\n",
        "# Crema\n",
        "for dirname, _, filenames in os.walk(\"../content/CREMAD/AudioWAV\"):\n",
        "    for filename in filenames:\n",
        "        file_path = os.path.join(dirname, filename).replace(\"\\\\\", \"/\")\n",
        "        paths.append(file_path)\n",
        "        label = filename.split('_')[-2]\n",
        "        if label == \"ANG\":\n",
        "            labels.append(\"angry\")\n",
        "        elif label == \"DIS\":\n",
        "            labels.append(\"disgust\")\n",
        "        elif label == \"FEA\":\n",
        "            labels.append(\"fear\")\n",
        "        elif label == \"HAP\":\n",
        "            labels.append(\"happy\")\n",
        "        elif label == \"NEU\":\n",
        "            labels.append(\"neutral\")\n",
        "        elif label == \"SAD\":\n",
        "            labels.append(\"sad\")\n",
        "print('CREMA dataset is Loaded')\n",
        "print(len(paths))\n",
        "#TESS dataset\n",
        "for dirname, _, filenames in os.walk('../content/TESS/TESS Toronto emotional speech set data'):\n",
        "    for filename in filenames:\n",
        "        label = filename.split('_')[-1]\n",
        "        label = label.split('.')[0]\n",
        "        if label != \"ps\":\n",
        "          paths.append(os.path.join(dirname, filename).replace(\"\\\\\", \"/\"))\n",
        "          labels.append(label.lower())\n",
        "\n",
        "print('TESS dataset is Loaded')\n",
        "print(len(paths))\n",
        "## Ravdess\n",
        "for dirname, _, filenames in os.walk('../content/RAVDESS/audio_speech_actors_01-24'):\n",
        "    for filename in filenames:\n",
        "        label = filename.split('-')[2]\n",
        "        if label != \"02\" and label !=\"08\":\n",
        "            paths.append(os.path.join(dirname, filename).replace(\"\\\\\", \"/\"))\n",
        "\n",
        "        if label == \"01\":\n",
        "            labels.append(\"neutral\")\n",
        "        elif label == \"03\":\n",
        "            labels.append(\"happy\")\n",
        "        elif label == \"04\":\n",
        "            labels.append(\"sad\")\n",
        "        elif label == \"05\":\n",
        "            labels.append(\"angry\")\n",
        "        elif label == \"06\":\n",
        "            labels.append(\"fear\")\n",
        "        elif label == \"07\":\n",
        "            labels.append(\"disgust\")\n",
        "\n",
        "print('RAVDESS dataset is Loaded')\n",
        "print(len(paths))\n",
        "#Savee\n",
        "for dirname, _, filenames in os.walk('../content/SAVEE/ALL'):\n",
        "    for filename in filenames:\n",
        "        label = filename.split('_')[-1][0] if filename.split('_')[-1][1].isdigit() else filename.split('_')[-1][0:2]\n",
        "        if label != \"su\":\n",
        "          paths.append(os.path.join(dirname, filename).replace(\"\\\\\", \"/\"))\n",
        "\n",
        "        if label == \"n\":\n",
        "            labels.append(\"neutral\")\n",
        "        elif label == \"h\":\n",
        "            labels.append(\"happy\")\n",
        "        elif label == \"sa\":\n",
        "            labels.append(\"sad\")\n",
        "        elif label == \"a\":\n",
        "            labels.append(\"angry\")\n",
        "        elif label == \"f\":\n",
        "            labels.append(\"fear\")\n",
        "        elif label == \"d\":\n",
        "            labels.append(\"disgust\")\n",
        "\n",
        "print(\"SAVEE dataset is loaded\")\n",
        "print(len(paths))"
      ]
    },
    {
      "cell_type": "code",
      "execution_count": 35,
      "metadata": {
        "id": "Sz93wxRXjGq8"
      },
      "outputs": [],
      "source": [
        "df = pd.DataFrame()\n",
        "df[\"Speech\"] = paths\n",
        "df[\"labels\"] = labels\n"
      ]
    },
    {
      "cell_type": "code",
      "execution_count": 36,
      "metadata": {
        "colab": {
          "base_uri": "https://localhost:8080/"
        },
        "id": "WSlIcYrfO-8m",
        "outputId": "66e0c9d4-095d-4fbf-8a1d-19456712e3af"
      },
      "outputs": [
        {
          "output_type": "execute_result",
          "data": {
            "text/plain": [
              "labels\n",
              "sad        1923\n",
              "angry      1923\n",
              "happy      1923\n",
              "fear       1923\n",
              "disgust    1923\n",
              "neutral    1703\n",
              "Name: count, dtype: int64"
            ]
          },
          "metadata": {},
          "execution_count": 36
        }
      ],
      "source": [
        "df[\"labels\"].value_counts()"
      ]
    },
    {
      "cell_type": "markdown",
      "metadata": {
        "id": "dcpPtCYGG8bF"
      },
      "source": [
        "### Zapis do pliku CSV"
      ]
    },
    {
      "cell_type": "code",
      "execution_count": 37,
      "metadata": {
        "id": "MQQXPs5mOo7R"
      },
      "outputs": [],
      "source": [
        "df.to_csv(\"/content/drive/MyDrive/WUM/Recordings_Dataframe/data_path_WUM.csv\",index=False)"
      ]
    },
    {
      "cell_type": "markdown",
      "metadata": {
        "id": "FV00maSc7txP"
      },
      "source": [
        "## 3. Powiększanie zbioru danych poprzez filtry i ekstrakcja cech"
      ]
    },
    {
      "cell_type": "markdown",
      "metadata": {
        "id": "Dn2EzCA0u_bM"
      },
      "source": [
        "### Wczytanie danych z pliku\n",
        "Wczytanie podpisanych ścieżek audio z dysku google"
      ]
    },
    {
      "cell_type": "code",
      "execution_count": 38,
      "metadata": {
        "id": "9miG5kQ7wug1"
      },
      "outputs": [],
      "source": [
        "import timeit\n",
        "import warnings\n",
        "warnings.filterwarnings('ignore')\n",
        "\n",
        "import librosa\n",
        "import librosa.display\n",
        "import numpy as np\n",
        "import pandas as pd\n",
        "\n",
        "from tqdm import tqdm"
      ]
    },
    {
      "cell_type": "code",
      "execution_count": 39,
      "metadata": {
        "id": "e7rLn4xcvRgY"
      },
      "outputs": [],
      "source": [
        "df = pd.read_csv('/content/drive/MyDrive/WUM/Recordings_Dataframe/data_path_WUM.csv')\n",
        "\n",
        "paths = df[\"Speech\"].tolist()\n",
        "labels = df[\"labels\"].tolist()"
      ]
    },
    {
      "cell_type": "markdown",
      "source": [
        "oversampling z przefiltrowanych plikach: noise, stretch, pitch, shift"
      ],
      "metadata": {
        "id": "XvHsrcrr2YIF"
      }
    },
    {
      "cell_type": "code",
      "source": [
        "def noise(y):\n",
        "    noise_amp = 0.035*np.random.uniform()*np.amax(y)\n",
        "    y = y + noise_amp*np.random.normal(size=y.shape[0])\n",
        "    return y\n",
        "\n",
        "def stretch(y):\n",
        "  return librosa.effects.time_stretch(y,rate=0.8)\n",
        "\n",
        "def pitch_shift(y,sr):\n",
        "  return librosa.effects.pitch_shift(y=y,sr=sr,n_steps=3)"
      ],
      "metadata": {
        "id": "iBJ2z_X42XzC"
      },
      "execution_count": 40,
      "outputs": []
    },
    {
      "cell_type": "markdown",
      "metadata": {
        "id": "84k9uPm0uz60"
      },
      "source": [
        "### Metody ekstrakcji cech z pliku audio"
      ]
    },
    {
      "cell_type": "code",
      "execution_count": null,
      "metadata": {
        "id": "0RRJXFMs7tED"
      },
      "outputs": [],
      "source": [
        "# Metoda MFCC\n",
        "def extract_mfcc(n, y, sr):\n",
        "    mfccs = librosa.feature.mfcc(y=y, sr=sr, n_mfcc=n,hop_length=512)\n",
        "    mfccs = np.mean(mfccs.T, axis=0)\n",
        "    return mfccs\n",
        "\n",
        "# Metoda Root Mean Squeare - RMS\n",
        "def extract_rms(y):\n",
        "    rms = np.mean(librosa.feature.rms(y=y,frame_length=2048,hop_length=512)[0])\n",
        "    return np.squeeze(rms)\n",
        "\n",
        "# Metoda Chroma-STFT\n",
        "def extract_chroma(n, y, sr):\n",
        "    chroma = librosa.feature.chroma_stft(y=y, sr=sr, n_chroma = n, hop_length=512)\n",
        "    chroma = np.mean(chroma.T, axis=0)\n",
        "    return chroma\n",
        "\n",
        "# Metoda Zero Crossing Rate - ZCR\n",
        "def extract_zcr(y):\n",
        "  zcr = np.mean(librosa.feature.zero_crossing_rate(y=y,frame_length=2048,hop_length=512)[0])\n",
        "  return np.squeeze(zcr)\n",
        "\n",
        "'''\n",
        "Poniższe cechy podczas trenowania modelu okazały się nieprzydatne, uczenie modelu okazało się być zbyt kosztowne czasowo,\n",
        "nie przetestowane na większej ilości epok\n",
        "\n",
        "# Metoda Spectral Centroid\n",
        "def extract_scectroid(y,sr):\n",
        "  spectral_centroids = librosa.feature.spectral_centroid(y=y, sr=sr, n_fft=2048, hop_length=512)[0][:30]\n",
        "  return spectral_centroids  # Averaging spectral centroids\n",
        "\n",
        "# Metoda Spectral Bandtwidth\n",
        "def extract_sbandwidth(y,sr):\n",
        "  spectral_bandwidth = librosa.feature.spectral_bandwidth(y=y, sr=sr, n_fft=2048, hop_length=512)[0][:30]\n",
        "  return spectral_bandwidth  # Averaging spectral centroids\n",
        "\n",
        "# Metoda Spectral Contrast\n",
        "def extract_scontrast(y,sr):\n",
        "  spectral_contrast = librosa.feature.spectral_contrast(y=y, sr=sr, n_fft=2048, hop_length=512)[0][:30]\n",
        "  return spectral_contrast  # Averaging spectral centroids\n",
        "\n",
        "# Metoda Spectral Flatness\n",
        "def extract_sflatness(y,sr):\n",
        "  spectral_flatness = librosa.feature.spectral_flatness(y=y, n_fft=2048, hop_length=512)[0][:30]\n",
        "  return spectral_flatness  # Averaging spectral centroids\n",
        "\n",
        "# Metoda Spectral Roll-off\n",
        "def extract_srolloff(y,sr):\n",
        "  spectral_rolloff = librosa.feature.spectral_rolloff(y=y, sr=sr, n_fft=2048, hop_length=512)[0][:30]\n",
        "  return spectral_rolloff  # Averaging spectral centroids\n",
        "'''"
      ]
    },
    {
      "cell_type": "code",
      "source": [
        "def extract_features(y,sr, n_f_m, n_f_c):\n",
        "  result = np.array([])\n",
        "  mfcc = extract_mfcc(n = n_f_m, y=y, sr=sr)\n",
        "  chroma = extract_chroma(n = n_f_c, y=y, sr=sr)\n",
        "  zcr = extract_zcr(y=y)\n",
        "  rms = extract_rms(y=y)\n",
        "  #sCentroid = extract_scectroid(y=y,sr=sr)\n",
        "  #sBandhwidth = extract_sbandwidth(y=y,sr=sr)\n",
        "  #sContrast = extract_scontrast(y=y,sr=sr)\n",
        "  #sFlatness = extract_sflatness(y=y,sr=sr)\n",
        "  #sRolloff = extract_srolloff(y=y,sr=sr)\n",
        "  result = np.hstack((result,\n",
        "                      mfcc,\n",
        "                      chroma,\n",
        "                      zcr,\n",
        "                      rms\n",
        "                      #sCentroid,\n",
        "                      #sBandhwidth,\n",
        "                      #sContrast,\n",
        "                      #sFlatness,\n",
        "                      #sRolloff\n",
        "                      ))\n",
        "\n",
        "  return result"
      ],
      "metadata": {
        "id": "FBt1li-d-Gvz"
      },
      "execution_count": 42,
      "outputs": []
    },
    {
      "cell_type": "markdown",
      "metadata": {
        "id": "2tYBjyKS99p0"
      },
      "source": [
        "Pętla wykonująca ekstrakcje cech"
      ]
    },
    {
      "cell_type": "code",
      "execution_count": null,
      "metadata": {
        "id": "wSPuBui_993b"
      },
      "outputs": [],
      "source": [
        "number_of_features_mfcc = 42\n",
        "number_of_features_chroma = 24\n",
        "start = timeit.default_timer()\n",
        "\n",
        "X_f = []\n",
        "result = np.array([])\n",
        "new_labels = []\n",
        "for path in tqdm(paths):\n",
        "    y, sr = librosa.load(path, duration = 2.5, offset=0.5)\n",
        "\n",
        "    if result.size == 0: result = extract_features(y,sr,number_of_features_mfcc, number_of_features_chroma)\n",
        "    else: result = np.vstack((result,extract_features(y,sr,number_of_features_mfcc, number_of_features_chroma)))\n",
        "    new_labels.append(labels[i])\n",
        "\n",
        "    data_noise = noise(y)\n",
        "    result = np.vstack((result,\n",
        "                        extract_features(data_noise,sr,number_of_features_mfcc, number_of_features_chroma)))\n",
        "    new_labels.append(labels[i])\n",
        "\n",
        "    data_stretch = stretch(y)\n",
        "    result = np.vstack((result,\n",
        "                        extract_features(data_stretch,sr,number_of_features_mfcc, number_of_features_chroma)))\n",
        "    new_labels.append(labels[i])\n",
        "\n",
        "    data_pitch_shift = pitch_shift(y,sr)\n",
        "    result = np.vstack((result,\n",
        "                        extract_features(data_pitch_shift,sr,number_of_features_mfcc, number_of_features_chroma)))\n",
        "    new_labels.append(labels[i])\n",
        "\n",
        "end = timeit.default_timer()\n",
        "print(f\"Czas pętli: {(end-start)} sekund\")\n",
        "\n",
        "X_f = np.array(result)\n",
        "X_f.shape"
      ]
    },
    {
      "cell_type": "code",
      "execution_count": null,
      "metadata": {
        "id": "0GxqvIrRStWJ",
        "colab": {
          "base_uri": "https://localhost:8080/"
        },
        "outputId": "864df60d-bbca-4500-a104-15db0bf68dd2"
      },
      "outputs": [
        {
          "output_type": "execute_result",
          "data": {
            "text/plain": [
              "(45272,)"
            ]
          },
          "metadata": {},
          "execution_count": 14
        }
      ],
      "source": [
        "word_to_int = {\"angry\": 0, \"happy\": 1, \"sad\": 2,\"disgust\": 3,\"fear\": 4,\"neutral\": 5}\n",
        "y_1 = []\n",
        "for i in range(len(new_labels)):\n",
        "    if new_labels[i] in word_to_int:\n",
        "        new_labels[i] = word_to_int[new_labels[i]]\n",
        "\n",
        "y_1 = np.array(new_labels)\n",
        "#y = np.array(new_labels)\n",
        "y_1.shape"
      ]
    },
    {
      "cell_type": "markdown",
      "metadata": {
        "id": "wAOCbGjqlStq"
      },
      "source": [
        "Zapisanie do pliku cech i labeli"
      ]
    },
    {
      "cell_type": "code",
      "execution_count": null,
      "metadata": {
        "colab": {
          "base_uri": "https://localhost:8080/"
        },
        "id": "YpIsSf9Rr4h1",
        "outputId": "a8bf13ee-f506-4453-8668-8c732c60e7f5"
      },
      "outputs": [
        {
          "output_type": "stream",
          "name": "stdout",
          "text": [
            "Index(['labels', 'Features'], dtype='object')\n"
          ]
        }
      ],
      "source": [
        "df = pd.DataFrame()\n",
        "\n",
        "df[\"labels\"] = y_1.tolist()\n",
        "df[\"Features\"] = X_f.tolist()\n",
        "print(df.columns)\n",
        "df.to_csv('/content/drive/MyDrive/WUM/Features/data_features_with_labels_dataframe_WUM.csv')\n",
        "#df.to_csv('/content/drive/MyDrive/WUM/Features/data_features_with_labels_dataframe_WUM_276_30.csv',index=False)\n",
        "#df.to_csv('/content/drive/MyDrive/WUM/Features/data_features_with_labels_dataframe_WUM_mfcc42_chroma24.csv',index=False)\n",
        "#df.to_csv('/content/drive/MyDrive/WUM/Features/data_features_with_labels_dataframe_WUM_more_feature_methods.csv',index=False)\n",
        "#df.to_csv('/content/drive/MyDrive/WUM/Features/data_features_with_labels_dataframe_WUM_more_feature_methods_first33.csv',index=False)"
      ]
    },
    {
      "cell_type": "markdown",
      "metadata": {
        "id": "XSpJFCLxmu7R"
      },
      "source": [
        "## 4. Konfiguracja bez wstępnego preprocessingu (cechy pobierane z pliku CSV)"
      ]
    },
    {
      "cell_type": "markdown",
      "metadata": {
        "id": "dW0uxaQalZm8"
      },
      "source": [
        "Odczytanie z pliku cech i labeli"
      ]
    },
    {
      "cell_type": "code",
      "execution_count": 109,
      "metadata": {
        "id": "qQG1en-JlY8c"
      },
      "outputs": [],
      "source": [
        "import time\n",
        "\n",
        "import numpy as np\n",
        "import os\n",
        "import seaborn as sns\n",
        "import matplotlib.pyplot as plt\n",
        "import ast\n",
        "\n",
        "import torch\n",
        "import torch.nn as nn\n",
        "import torch.optim as optim\n",
        "from torch.optim.lr_scheduler import ReduceLROnPlateau\n",
        "from torch.nn.utils import clip_grad_norm_\n",
        "!pip -q install torchmetrics\n",
        "from torchmetrics import Accuracy\n",
        "\n",
        "from sklearn.model_selection import train_test_split\n",
        "from sklearn.preprocessing import StandardScaler\n",
        "\n",
        "from torch.utils.data import Dataset, DataLoader\n",
        "import pandas as pd\n",
        "\n",
        "import warnings\n",
        "warnings.filterwarnings('ignore')\n",
        "\n",
        "RANDOM_SEED = 42\n",
        "torch.manual_seed(RANDOM_SEED)\n",
        "torch.cuda.manual_seed(RANDOM_SEED)\n",
        "device = 'cuda' if torch.cuda.is_available() else 'cpu'\n",
        "\n",
        "TRAIN_PATH = '/content/drive/MyDrive/WUM/Train/train_labels_features_dataframe.csv'\n",
        "TEST_PATH = '/content/drive/MyDrive/WUM/Test/test_labels_features_dataframe.csv'"
      ]
    },
    {
      "cell_type": "markdown",
      "metadata": {
        "id": "69uPnxbUQP7S"
      },
      "source": [
        "## 5. Tworzenie modelu uczenia maszynowego"
      ]
    },
    {
      "cell_type": "markdown",
      "metadata": {
        "id": "GrzElfNlplW7"
      },
      "source": [
        "### Podział zbioru na treningowy i testowy i zapisanie do pliku"
      ]
    },
    {
      "cell_type": "code",
      "execution_count": 44,
      "metadata": {
        "id": "P2kQToRsWy0I",
        "colab": {
          "base_uri": "https://localhost:8080/"
        },
        "outputId": "0136ab53-9f27-450e-c633-7e4887a98a82"
      },
      "outputs": [
        {
          "output_type": "execute_result",
          "data": {
            "text/plain": [
              "((45272, 68), (45272,))"
            ]
          },
          "metadata": {},
          "execution_count": 44
        }
      ],
      "source": [
        "PATH_FILE = '/content/drive/MyDrive/WUM/Features/data_features_with_labels_dataframe_WUM.csv'\n",
        "\n",
        "\n",
        "## Zamiana z string -> 1d liste -> 2d liste\n",
        "def labels_and_features_from_csv(path_file):\n",
        "    df = pd.read_csv(path_file)\n",
        "    converted_features = []\n",
        "\n",
        "    for feature_string in df['Features']:\n",
        "        feature_list = ast.literal_eval(feature_string)\n",
        "        converted_features.append(np.array(feature_list, dtype=float))\n",
        "\n",
        "    X = np.vstack(converted_features)\n",
        "    y = np.array(df['labels'])\n",
        "    return y, X\n",
        "\n",
        "y, X = labels_and_features_from_csv(PATH_FILE)\n",
        "\n",
        "X.shape, y.shape"
      ]
    },
    {
      "cell_type": "code",
      "source": [
        "TRAIN_PATH = '/content/drive/MyDrive/WUM/Train/train_labels_features_dataframe.csv'\n",
        "TEST_PATH = '/content/drive/MyDrive/WUM/Test/test_labels_features_dataframe.csv'"
      ],
      "metadata": {
        "id": "MYBanjPCODch"
      },
      "execution_count": 45,
      "outputs": []
    },
    {
      "cell_type": "code",
      "source": [
        "X_train, X_test, y_train, y_test = train_test_split(X, y, test_size=0.25, random_state=RANDOM_SEED, stratify=y)\n",
        "scaler = StandardScaler()\n",
        "\n",
        "# normalizacja danych\n",
        "X_train = scaler.fit_transform(X_train)\n",
        "X_test = scaler.transform(X_test)"
      ],
      "metadata": {
        "id": "8oH_JlJDsul1"
      },
      "execution_count": 46,
      "outputs": []
    },
    {
      "cell_type": "code",
      "execution_count": 47,
      "metadata": {
        "id": "4Mdtnjq9xkCu"
      },
      "outputs": [],
      "source": [
        "df_train = pd.DataFrame()\n",
        "df_train[\"labels\"] = y_train.tolist()\n",
        "df_train[\"Features\"] = X_train.tolist()\n",
        "\n",
        "df_train.to_csv(TRAIN_PATH,index=False)\n",
        "\n",
        "df_test = pd.DataFrame()\n",
        "df_test[\"labels\"] = y_test.tolist()\n",
        "df_test[\"Features\"] = X_test.tolist()\n",
        "\n",
        "\n",
        "df_test.to_csv(TEST_PATH,index=False)"
      ]
    },
    {
      "cell_type": "markdown",
      "metadata": {
        "id": "Mq2gNckw2KdD"
      },
      "source": [
        "### Tworzenie torch.Dataset w celu możliwości iterowania dzięki torch.dataLoader"
      ]
    },
    {
      "cell_type": "code",
      "execution_count": 29,
      "metadata": {
        "id": "6CESJhJI2Mmf"
      },
      "outputs": [],
      "source": [
        "class torchDataset(Dataset):\n",
        "    \"\"\"\n",
        "    A custom Dataset class for loading features and labels from a CSV file,\n",
        "    where features are stored as string representations of lists that need\n",
        "    to be converted to numpy arrays and then to Torch tensors.\n",
        "    \"\"\"\n",
        "    def __init__(self, csv_file, device: str):\n",
        "        \"\"\"\n",
        "        Args:\n",
        "            csv_file (str): Path to the CSV file.\n",
        "        \"\"\"\n",
        "        # Load the data from a CSV file\n",
        "        self.df = pd.read_csv(csv_file)\n",
        "\n",
        "        # Convert features from strings to numpy arrays\n",
        "        self.features = [self.convert_string_to_array(feature_string)\n",
        "                         for feature_string in self.df['Features']]\n",
        "        self.features = np.vstack(self.features)  # Stack to create a 2D array\n",
        "        self.features = torch.tensor(self.features, dtype=torch.float, device = device)  # Convert to torch.Tensor\n",
        "\n",
        "        self.features = torch.tensor(self.features, dtype=torch.float, device = device).unsqueeze(1)  # Add dimension #FOR LSTM MODEL DIMENSIONS = [batch_size, sequence_length, input_length]\n",
        "        # Convert labels to a torch tensor\n",
        "        self.labels = torch.tensor(self.df['labels'].values, dtype=torch.long)\n",
        "\n",
        "    def convert_string_to_array(self, feature_string):\n",
        "        \"\"\"\n",
        "        Converts a string representation of a list into a numpy array.\n",
        "        \"\"\"\n",
        "        try:\n",
        "            # Parse the string to a list\n",
        "            feature_list = ast.literal_eval(feature_string)\n",
        "            return np.array(feature_list, dtype=float)\n",
        "        except Exception as e:\n",
        "            print(f\"Error parsing string to array: {e}\")\n",
        "            return np.array([], dtype=float)\n",
        "\n",
        "    def __len__(self):\n",
        "        \"\"\"\n",
        "        Returns the total number of samples in the dataset.\n",
        "        \"\"\"\n",
        "        return len(self.df)\n",
        "\n",
        "    def __getitem__(self, idx):\n",
        "        \"\"\"\n",
        "        Retrieves the feature tensor and label for a given index.\n",
        "\n",
        "        Args:\n",
        "            idx (int): Index of the data point to retrieve.\n",
        "\n",
        "        Returns:\n",
        "            tuple: (feature, label) where feature is a tensor of features and label is a single value tensor.\n",
        "        \"\"\"\n",
        "        feature = self.features[idx]\n",
        "        label = self.labels[idx]\n",
        "        return feature, label"
      ]
    },
    {
      "cell_type": "markdown",
      "metadata": {
        "id": "yUo35TkWGmv0"
      },
      "source": [
        "### Załadowanie train_data i test_data z pliku .csv"
      ]
    },
    {
      "cell_type": "code",
      "execution_count": 48,
      "metadata": {
        "id": "wTLH4FTCGvk_",
        "colab": {
          "base_uri": "https://localhost:8080/"
        },
        "outputId": "20a66a99-5408-4f41-8e93-d2c08c5cf293"
      },
      "outputs": [
        {
          "output_type": "stream",
          "name": "stdout",
          "text": [
            "torch.Size([128, 1, 68]) torch.Size([128])\n"
          ]
        }
      ],
      "source": [
        "batch_size = 128\n",
        "train_data = torchDataset(TRAIN_PATH,device)\n",
        "test_data = torchDataset(TEST_PATH,device)\n",
        "\n",
        "train_dataloader = DataLoader(train_data,\n",
        "                              batch_size=batch_size,\n",
        "                              shuffle=True)\n",
        "\n",
        "test_dataloader = DataLoader(test_data,\n",
        "                              batch_size=batch_size,\n",
        "                              shuffle=True)\n",
        "\n",
        "for batch, (X, y) in enumerate(train_dataloader):\n",
        "  print(X.shape, y.shape)\n",
        "  break"
      ]
    },
    {
      "cell_type": "markdown",
      "metadata": {
        "id": "oVsOpFhbQKuU"
      },
      "source": [
        "### Zdefiniowanie klas modeli"
      ]
    },
    {
      "cell_type": "code",
      "execution_count": 100,
      "metadata": {
        "id": "pqzOp77vVOLM"
      },
      "outputs": [],
      "source": [
        "class LSTM(nn.Module):\n",
        "  def __init__(self, in_features, hidden_nodes, num_layers, out_features):\n",
        "    super(LSTM, self).__init__()\n",
        "    self.num_layers = num_layers\n",
        "    self.hidden_size = hidden_nodes\n",
        "    self.lstm = nn.LSTM(in_features, hidden_nodes, num_layers, batch_first = True)\n",
        "    self.fc_1 = nn.Linear(hidden_nodes, out_features)\n",
        "    #self.fc_3 = nn.Linear(64, 32)\n",
        "    #self.fc = nn.Linear(32, out_features)\n",
        "    self.relu = nn.ReLU()\n",
        "\n",
        "  def forward(self,x):\n",
        "    h0 = torch.zeros(self.num_layers, x.size(0), self.hidden_size).to(device)\n",
        "    c0 = torch.zeros(self.num_layers, x.size(0), self.hidden_size).to(device)\n",
        "\n",
        "    out, _ = self.lstm(x, (h0,c0))\n",
        "    hn = out[:, -1, :]\n",
        "    out = self.relu(hn)\n",
        "    out = self.fc_1(out)\n",
        "    #out = self.relu(self.fc_2(out))\n",
        "    #out = self.relu(self.fc_3(out))\n",
        "    return out\n",
        "\n",
        "\n",
        "class CNN(nn.Module):\n",
        "    def __init__(self, sequence_length, out_features):\n",
        "        super(CNN, self).__init__()\n",
        "        self.linear_size = 512 * 17 # 68 / 2 = 34 -> 34 / 2 = 17\n",
        "        self.model = nn.Sequential(\n",
        "            nn.Conv1d(in_channels=sequence_length, out_channels=1024, kernel_size=3, stride=1, padding=1), # []\n",
        "            nn.LeakyReLU(),\n",
        "            nn.Conv1d(in_channels=1024, out_channels=1024, kernel_size=3, stride=1, padding=1),\n",
        "            nn.LeakyReLU(),\n",
        "            nn.Conv1d(in_channels=1024, out_channels=1024, kernel_size=3, stride=1, padding=1),\n",
        "            nn.LeakyReLU(),\n",
        "            nn.Conv1d(in_channels=1024, out_channels=512, kernel_size=3, stride=2, padding=1),\n",
        "            nn.LeakyReLU(),\n",
        "            nn.Conv1d(in_channels=512, out_channels=512, kernel_size=3, stride=2, padding=1),\n",
        "            nn.LeakyReLU(),\n",
        "            nn.BatchNorm1d(512),\n",
        "\n",
        "            nn.Flatten(),\n",
        "\n",
        "            nn.Linear(self.linear_size, 512),\n",
        "            nn.LeakyReLU(),\n",
        "            nn.Dropout(p=0.1),\n",
        "\n",
        "            nn.Linear(512, 512),\n",
        "            nn.LeakyReLU(),\n",
        "            nn.Dropout(p=0.1),\n",
        "\n",
        "            nn.Linear(512, out_features)\n",
        "        )\n",
        "\n",
        "    def forward(self, x):\n",
        "        return self.model(x)\n",
        "\n",
        "class CNNLSTM(nn.Module):\n",
        "    def __init__(self, sequence_length, out_features):\n",
        "        super(CNNLSTM, self).__init__()\n",
        "        self.conv1 = nn.Conv1d(in_channels=sequence_length, out_channels=64, kernel_size=3, stride=1, padding=1)\n",
        "        self.relu1 = nn.ReLU()\n",
        "        self.conv2 = nn.Conv1d(in_channels=64, out_channels=64, kernel_size=3, stride=1, padding=1)\n",
        "        self.relu2 = nn.ReLU()\n",
        "\n",
        "        # LSTM layer\n",
        "        self.lstm = nn.LSTM(input_size=64, hidden_size=64, num_layers=2, batch_first=True)\n",
        "\n",
        "        self.conv3 = nn.Conv1d(in_channels=64, out_channels=64, kernel_size=3, stride=2, padding=1)\n",
        "        self.relu3 = nn.ReLU()\n",
        "\n",
        "        self.flatten = nn.Flatten()\n",
        "        self.linear_size = 64 * 34  # Adjusted according to the output of conv3\n",
        "        self.fc1 = nn.Linear(self.linear_size, 128)\n",
        "        self.relu4 = nn.ReLU()\n",
        "        self.fc2 = nn.Linear(128, 64)\n",
        "        self.fc3 = nn.Linear(64, out_features)\n",
        "\n",
        "    def forward(self, x):\n",
        "        x = self.relu1(self.conv1(x))\n",
        "        x = self.relu2(self.conv2(x))\n",
        "        x = x.permute(0, 2, 1)\n",
        "        x, (hn, cn) = self.lstm(x)\n",
        "        # Permuting back from (batch size, sequence length, channels) to (batch size, channels, sequence length)\n",
        "        x = x.permute(0, 2, 1)\n",
        "\n",
        "        x = self.relu3(self.conv3(x))\n",
        "        x = self.flatten(x)\n",
        "        x = self.relu4(self.fc1(x))\n",
        "        x = self.relu4(self.fc2(x))\n",
        "        x = self.fc3(x)\n",
        "        return x"
      ]
    },
    {
      "cell_type": "markdown",
      "metadata": {
        "id": "RomR1up0puZe"
      },
      "source": [
        "### Zdefiniowanie hyper-parameters"
      ]
    },
    {
      "cell_type": "code",
      "execution_count": 78,
      "metadata": {
        "id": "gvN7A_A7pyUL"
      },
      "outputs": [],
      "source": [
        "num_layers = 1\n",
        "in_features = 68\n",
        "out_features = 6\n",
        "hidden_nodes = 32\n",
        "sequence_length = 1"
      ]
    },
    {
      "cell_type": "markdown",
      "metadata": {
        "id": "eC6EGHTTp4wH"
      },
      "source": [
        "### Definicja modelu, funkcji straty (loss), funkcji dokładności (accuracy) i optymalizatora"
      ]
    },
    {
      "cell_type": "code",
      "execution_count": 153,
      "metadata": {
        "id": "7PAlmRL1p5qD"
      },
      "outputs": [],
      "source": [
        "#model = LSTM(in_features, hidden_nodes, num_layers, out_features).to(device)\n",
        "model = CNN(sequence_length, out_features).to(device)\n",
        "#model = test(68,6).to(device)\n",
        "#model = CNNLSTM(sequence_length, out_features).to(device)\n",
        "loss_fn = torch.nn.CrossEntropyLoss()\n",
        "optimizer = torch.optim.AdamW(model.parameters(), lr=0.001, weight_decay=0.0001, fused=True)\n",
        "acc_fn = Accuracy(task=\"multiclass\", num_classes=6).to(device) # send accuracy function to device\n",
        "scheduler = ReduceLROnPlateau(optimizer, 'min', factor=0.2, patience=5, eps=0.00001)"
      ]
    },
    {
      "cell_type": "markdown",
      "metadata": {
        "id": "rxwAwHjip8aW"
      },
      "source": [
        "## 6. Pętla uczenia i testowania\n"
      ]
    },
    {
      "cell_type": "markdown",
      "metadata": {
        "id": "R211NokQyUiO"
      },
      "source": [
        "### Funkcje kroku trenowania i testowania"
      ]
    },
    {
      "cell_type": "code",
      "execution_count": 154,
      "metadata": {
        "id": "7rcatTVMyun3"
      },
      "outputs": [],
      "source": [
        "def train_step(model: torch.nn.Module,\n",
        "               data_loader: torch.utils.data.DataLoader,\n",
        "               loss_fn: torch.nn.Module,\n",
        "               optimizer: torch.optim.Optimizer,\n",
        "               accuracy_fn,\n",
        "               device: torch.device = device):\n",
        "    train_loss, train_acc = 0, 0\n",
        "    model.to(device)\n",
        "    model.train()\n",
        "    for batch, (X, y) in enumerate(data_loader):\n",
        "        # Send data to GPU\n",
        "        X, y = X.to(device), y.to(device)\n",
        "\n",
        "        # 1. Forward pass\n",
        "        y_pred = model(X)\n",
        "        # 2. Calculate loss\n",
        "        loss = loss_fn(y_pred, y)\n",
        "        train_loss += loss\n",
        "        train_acc += accuracy_fn(y,\n",
        "                                 y_pred.argmax(dim=1)) # Go from logits -> pred labels\n",
        "\n",
        "        # 3. Optimizer zero grad\n",
        "        optimizer.zero_grad()\n",
        "\n",
        "        # 4. Loss backward\n",
        "        loss.backward()\n",
        "\n",
        "        # 5. Optimizer step\n",
        "        optimizer.step()\n",
        "\n",
        "    # Calculate loss and accuracy per epoch and print out what's happening\n",
        "    train_loss /= len(data_loader)\n",
        "    train_acc /= len(data_loader)\n",
        "    print(f\"Train loss: {train_loss:.5f} | Train accuracy: {train_acc*100:.2f}%\")\n",
        "\n",
        "    return train_loss.detach().cpu().numpy(), train_acc.detach().cpu().numpy()\n",
        "\n",
        "\n",
        "def test_step(data_loader: torch.utils.data.DataLoader,\n",
        "              model: torch.nn.Module,\n",
        "              loss_fn: torch.nn.Module,\n",
        "              accuracy_fn,\n",
        "              device: torch.device = device):\n",
        "    test_loss, test_acc = 0, 0\n",
        "\n",
        "    model.to(device)\n",
        "    model.eval() # put model in eval mode\n",
        "    # Turn on inference context manager\n",
        "    with torch.inference_mode():\n",
        "        for X, y in data_loader:\n",
        "            # Send data to GPU\n",
        "            X, y = X.to(device), y.to(device)\n",
        "            # 1. Forward pass\n",
        "            test_pred = model(X)\n",
        "\n",
        "            # 2. Calculate loss and accuracy\n",
        "            test_loss += loss_fn(test_pred, y)\n",
        "            test_acc += accuracy_fn(y,\n",
        "                test_pred.argmax(dim=1) # Go from logits -> pred labels\n",
        "            )\n",
        "\n",
        "        # Adjust metrics and print out\n",
        "        test_loss /= len(data_loader)\n",
        "        test_acc /= len(data_loader)\n",
        "        print(f\"Test loss: {test_loss:.5f} | Test accuracy: {test_acc*100:.2f}%\\n\")\n",
        "\n",
        "    return test_loss.detach().cpu().numpy(), test_acc.detach().cpu().numpy()\n"
      ]
    },
    {
      "cell_type": "markdown",
      "metadata": {
        "id": "VX2xevSvyw8B"
      },
      "source": [
        "### Pętla trenowania i testowania"
      ]
    },
    {
      "cell_type": "code",
      "execution_count": 155,
      "metadata": {
        "id": "FFacjBOSzWDv"
      },
      "outputs": [],
      "source": [
        "from tqdm.auto import tqdm\n",
        "\n",
        "\n",
        "def train(epochs: int,\n",
        "          train_dataloader: torch.utils.data.DataLoader,\n",
        "          test_dataloader: torch.utils.data.DataLoader,\n",
        "          model: torch.nn.Module,\n",
        "          loss_fn: torch.nn.Module,\n",
        "          optimizer: torch.optim.Optimizer,\n",
        "          accuracy_fn,\n",
        "          device: torch.device = device):\n",
        "  max_acc_train, max_acc_test = 0, 0\n",
        "  max_loss_train, max_loss_test = 0, 0\n",
        "  result = {\"train_loss\" : [],\n",
        "            \"train_acc\": [],\n",
        "            \"test_loss\": [],\n",
        "            \"test_acc\": []}\n",
        "  for epoch in tqdm(range(epochs)):\n",
        "      print(f\"\\nEpoch: {epoch}\\n---------\")\n",
        "      # Train step\n",
        "      max_loss_train, max_acc_train = train_step(\n",
        "          model=model,\n",
        "          data_loader=train_dataloader,\n",
        "          loss_fn=loss_fn,\n",
        "          optimizer=optimizer,\n",
        "          accuracy_fn=acc_fn\n",
        "      )\n",
        "      result[\"train_loss\"].append(max_loss_train)\n",
        "      result[\"train_acc\"].append(max_acc_train)\n",
        "\n",
        "      #Test step\n",
        "      max_loss_test, max_acc_test = test_step(\n",
        "          model=model,\n",
        "          data_loader=test_dataloader,\n",
        "          loss_fn=loss_fn,\n",
        "          accuracy_fn=acc_fn\n",
        "      )\n",
        "\n",
        "      scheduler.step(max_loss_test)\n",
        "      #print(scheduler.get_last_lr())\n",
        "\n",
        "      result[\"test_loss\"].append(max_loss_test)\n",
        "      result[\"test_acc\"].append(max_acc_test)\n",
        "      #if max_acc_test >= 0.60:\n",
        "      #  break\n",
        "\n",
        "  return result\n",
        "\n"
      ]
    },
    {
      "cell_type": "markdown",
      "source": [
        "### Plotowanie loss i accuracy"
      ],
      "metadata": {
        "id": "cwwPI36h4kwg"
      }
    },
    {
      "cell_type": "code",
      "source": [
        "def plot_results(result, epochs):\n",
        "    # Assuming result is a dictionary containing 'train_loss', 'train_acc', 'test_loss', 'test_acc'\n",
        "    epochs_range = list(range(1, epochs + 1))\n",
        "\n",
        "    plt.figure(figsize=(12, 6))\n",
        "\n",
        "    plt.subplot(1, 2, 1)\n",
        "    plt.plot(epochs_range, result['train_loss'], label='Train Loss')\n",
        "    plt.plot(epochs_range, result['test_loss'], label='Test Loss')\n",
        "    plt.xlabel('Epochs')\n",
        "    plt.ylabel('Loss')\n",
        "    plt.title('Trai and Test Loss')\n",
        "    plt.legend()\n",
        "\n",
        "    plt.subplot(1, 2, 2)\n",
        "    plt.plot(epochs_range, result['train_acc'], label='Train Accuracy')\n",
        "    plt.plot(epochs_range, result['test_acc'], label='Test Accuracy')\n",
        "    plt.xlabel('Epochs')\n",
        "    plt.ylabel('Accuracy')\n",
        "    plt.title('Train and Test Accuracy')\n",
        "    plt.legend()\n",
        "\n",
        "    plt.savefig('/content/drive/MyDrive/WUM/Plots/Plot_CNN2')\n",
        "    plt.show()"
      ],
      "metadata": {
        "id": "q-dLDKZY4kF6"
      },
      "execution_count": 156,
      "outputs": []
    },
    {
      "cell_type": "markdown",
      "source": [
        "### Trening"
      ],
      "metadata": {
        "id": "OcLWajgfXZye"
      }
    },
    {
      "cell_type": "code",
      "source": [
        "epochs=50\n",
        "result = train(epochs=epochs,\n",
        "      train_dataloader = train_dataloader,\n",
        "      test_dataloader = test_dataloader,\n",
        "      model = model,\n",
        "      loss_fn = loss_fn,\n",
        "      optimizer = optimizer,\n",
        "      accuracy_fn = acc_fn,\n",
        "      device = device)\n",
        "\n",
        "plot_results(result,epochs)"
      ],
      "metadata": {
        "id": "R2s0IfQlErrA",
        "colab": {
          "base_uri": "https://localhost:8080/",
          "height": 1000,
          "referenced_widgets": [
            "e59afdd7e8e5436fa59279da11048236",
            "ec11186228634ccf8b21d5a6edbd51ae",
            "4bb7ad9551d2483eb6e784f8dc96684e",
            "402e7298c6ac4efebdc233d344e0a596",
            "3826f048ba86474c9949cb35a8117022",
            "d59d470e7de442cd97782770288f54cc",
            "c3122e4029b245e3bce680a8b1020a02",
            "ef49d261d01043439139988e7ecddbfb",
            "0e7488579a1642b88acff08cdcc2b362",
            "18a0dd9b63524953b55ea09a17fbc6ba",
            "364779ac96ec47909d625aa726b47417"
          ]
        },
        "outputId": "acf67e65-89b2-4ffd-db1d-7807133673b8"
      },
      "execution_count": 157,
      "outputs": [
        {
          "output_type": "display_data",
          "data": {
            "text/plain": [
              "  0%|          | 0/50 [00:00<?, ?it/s]"
            ],
            "application/vnd.jupyter.widget-view+json": {
              "version_major": 2,
              "version_minor": 0,
              "model_id": "e59afdd7e8e5436fa59279da11048236"
            }
          },
          "metadata": {}
        },
        {
          "output_type": "stream",
          "name": "stdout",
          "text": [
            "\n",
            "Epoch: 0\n",
            "---------\n",
            "Train loss: 1.21210 | Train accuracy: 50.45%\n",
            "Test loss: 1.11473 | Test accuracy: 55.98%\n",
            "\n",
            "\n",
            "Epoch: 1\n",
            "---------\n",
            "Train loss: 1.04367 | Train accuracy: 58.07%\n",
            "Test loss: 1.03082 | Test accuracy: 58.21%\n",
            "\n",
            "\n",
            "Epoch: 2\n",
            "---------\n",
            "Train loss: 0.94058 | Train accuracy: 62.47%\n",
            "Test loss: 0.93253 | Test accuracy: 62.88%\n",
            "\n",
            "\n",
            "Epoch: 3\n",
            "---------\n",
            "Train loss: 0.83055 | Train accuracy: 67.08%\n",
            "Test loss: 0.88862 | Test accuracy: 65.11%\n",
            "\n",
            "\n",
            "Epoch: 4\n",
            "---------\n",
            "Train loss: 0.71232 | Train accuracy: 72.40%\n",
            "Test loss: 0.84313 | Test accuracy: 67.91%\n",
            "\n",
            "\n",
            "Epoch: 5\n",
            "---------\n",
            "Train loss: 0.57616 | Train accuracy: 77.96%\n",
            "Test loss: 0.77140 | Test accuracy: 71.26%\n",
            "\n",
            "\n",
            "Epoch: 6\n",
            "---------\n",
            "Train loss: 0.45035 | Train accuracy: 83.16%\n",
            "Test loss: 0.79334 | Test accuracy: 72.99%\n",
            "\n",
            "\n",
            "Epoch: 7\n",
            "---------\n",
            "Train loss: 0.37594 | Train accuracy: 86.11%\n",
            "Test loss: 0.78945 | Test accuracy: 73.50%\n",
            "\n",
            "\n",
            "Epoch: 8\n",
            "---------\n",
            "Train loss: 0.27399 | Train accuracy: 90.09%\n",
            "Test loss: 0.80871 | Test accuracy: 74.45%\n",
            "\n",
            "\n",
            "Epoch: 9\n",
            "---------\n",
            "Train loss: 0.22240 | Train accuracy: 91.94%\n",
            "Test loss: 0.87203 | Test accuracy: 75.82%\n",
            "\n",
            "\n",
            "Epoch: 10\n",
            "---------\n",
            "Train loss: 0.18617 | Train accuracy: 93.42%\n",
            "Test loss: 0.95952 | Test accuracy: 75.64%\n",
            "\n",
            "\n",
            "Epoch: 11\n",
            "---------\n",
            "Train loss: 0.15511 | Train accuracy: 94.68%\n",
            "Test loss: 0.92700 | Test accuracy: 76.65%\n",
            "\n",
            "\n",
            "Epoch: 12\n",
            "---------\n",
            "Train loss: 0.06814 | Train accuracy: 97.82%\n",
            "Test loss: 0.86518 | Test accuracy: 78.52%\n",
            "\n",
            "\n",
            "Epoch: 13\n",
            "---------\n",
            "Train loss: 0.03697 | Train accuracy: 98.87%\n",
            "Test loss: 0.89677 | Test accuracy: 79.11%\n",
            "\n",
            "\n",
            "Epoch: 14\n",
            "---------\n",
            "Train loss: 0.02600 | Train accuracy: 99.31%\n",
            "Test loss: 0.92697 | Test accuracy: 79.02%\n",
            "\n",
            "\n",
            "Epoch: 15\n",
            "---------\n",
            "Train loss: 0.02237 | Train accuracy: 99.42%\n",
            "Test loss: 0.95875 | Test accuracy: 79.40%\n",
            "\n",
            "\n",
            "Epoch: 16\n",
            "---------\n",
            "Train loss: 0.01745 | Train accuracy: 99.54%\n",
            "Test loss: 0.97389 | Test accuracy: 79.59%\n",
            "\n",
            "\n",
            "Epoch: 17\n",
            "---------\n",
            "Train loss: 0.01611 | Train accuracy: 99.58%\n",
            "Test loss: 1.00024 | Test accuracy: 79.62%\n",
            "\n",
            "\n",
            "Epoch: 18\n",
            "---------\n",
            "Train loss: 0.01350 | Train accuracy: 99.65%\n",
            "Test loss: 0.98741 | Test accuracy: 79.72%\n",
            "\n",
            "\n",
            "Epoch: 19\n",
            "---------\n",
            "Train loss: 0.01252 | Train accuracy: 99.69%\n",
            "Test loss: 0.98301 | Test accuracy: 79.90%\n",
            "\n",
            "\n",
            "Epoch: 20\n",
            "---------\n",
            "Train loss: 0.01100 | Train accuracy: 99.77%\n",
            "Test loss: 0.99239 | Test accuracy: 79.90%\n",
            "\n",
            "\n",
            "Epoch: 21\n",
            "---------\n",
            "Train loss: 0.01066 | Train accuracy: 99.73%\n",
            "Test loss: 0.99787 | Test accuracy: 79.92%\n",
            "\n",
            "\n",
            "Epoch: 22\n",
            "---------\n",
            "Train loss: 0.01049 | Train accuracy: 99.72%\n",
            "Test loss: 0.99334 | Test accuracy: 79.97%\n",
            "\n",
            "\n",
            "Epoch: 23\n",
            "---------\n",
            "Train loss: 0.01053 | Train accuracy: 99.74%\n",
            "Test loss: 1.00497 | Test accuracy: 80.01%\n",
            "\n",
            "\n",
            "Epoch: 24\n",
            "---------\n",
            "Train loss: 0.01029 | Train accuracy: 99.72%\n",
            "Test loss: 0.99983 | Test accuracy: 79.98%\n",
            "\n",
            "\n",
            "Epoch: 25\n",
            "---------\n",
            "Train loss: 0.00847 | Train accuracy: 99.81%\n",
            "Test loss: 1.00472 | Test accuracy: 80.00%\n",
            "\n",
            "\n",
            "Epoch: 26\n",
            "---------\n",
            "Train loss: 0.00801 | Train accuracy: 99.83%\n",
            "Test loss: 1.00192 | Test accuracy: 79.91%\n",
            "\n",
            "\n",
            "Epoch: 27\n",
            "---------\n",
            "Train loss: 0.00905 | Train accuracy: 99.77%\n",
            "Test loss: 1.00552 | Test accuracy: 79.98%\n",
            "\n",
            "\n",
            "Epoch: 28\n",
            "---------\n",
            "Train loss: 0.00818 | Train accuracy: 99.82%\n",
            "Test loss: 1.01146 | Test accuracy: 79.97%\n",
            "\n",
            "\n",
            "Epoch: 29\n",
            "---------\n",
            "Train loss: 0.00893 | Train accuracy: 99.77%\n",
            "Test loss: 1.00470 | Test accuracy: 79.87%\n",
            "\n",
            "\n",
            "Epoch: 30\n",
            "---------\n",
            "Train loss: 0.00756 | Train accuracy: 99.83%\n",
            "Test loss: 1.00743 | Test accuracy: 79.90%\n",
            "\n",
            "\n",
            "Epoch: 31\n",
            "---------\n",
            "Train loss: 0.00782 | Train accuracy: 99.84%\n",
            "Test loss: 1.01082 | Test accuracy: 79.95%\n",
            "\n",
            "\n",
            "Epoch: 32\n",
            "---------\n",
            "Train loss: 0.00806 | Train accuracy: 99.81%\n",
            "Test loss: 1.01414 | Test accuracy: 79.96%\n",
            "\n",
            "\n",
            "Epoch: 33\n",
            "---------\n",
            "Train loss: 0.00913 | Train accuracy: 99.76%\n",
            "Test loss: 1.01600 | Test accuracy: 80.02%\n",
            "\n",
            "\n",
            "Epoch: 34\n",
            "---------\n",
            "Train loss: 0.00751 | Train accuracy: 99.84%\n",
            "Test loss: 1.01399 | Test accuracy: 80.01%\n",
            "\n",
            "\n",
            "Epoch: 35\n",
            "---------\n",
            "Train loss: 0.00846 | Train accuracy: 99.76%\n",
            "Test loss: 1.01942 | Test accuracy: 80.07%\n",
            "\n",
            "\n",
            "Epoch: 36\n",
            "---------\n",
            "Train loss: 0.00798 | Train accuracy: 99.78%\n",
            "Test loss: 1.02147 | Test accuracy: 80.18%\n",
            "\n",
            "\n",
            "Epoch: 37\n",
            "---------\n",
            "Train loss: 0.00733 | Train accuracy: 99.84%\n",
            "Test loss: 1.02398 | Test accuracy: 80.09%\n",
            "\n",
            "\n",
            "Epoch: 38\n",
            "---------\n",
            "Train loss: 0.00841 | Train accuracy: 99.80%\n",
            "Test loss: 1.02359 | Test accuracy: 79.97%\n",
            "\n",
            "\n",
            "Epoch: 39\n",
            "---------\n",
            "Train loss: 0.00717 | Train accuracy: 99.85%\n",
            "Test loss: 1.02715 | Test accuracy: 80.15%\n",
            "\n",
            "\n",
            "Epoch: 40\n",
            "---------\n",
            "Train loss: 0.00682 | Train accuracy: 99.82%\n",
            "Test loss: 1.02169 | Test accuracy: 80.08%\n",
            "\n",
            "\n",
            "Epoch: 41\n",
            "---------\n",
            "Train loss: 0.00736 | Train accuracy: 99.81%\n",
            "Test loss: 1.02411 | Test accuracy: 80.05%\n",
            "\n",
            "\n",
            "Epoch: 42\n",
            "---------\n",
            "Train loss: 0.00649 | Train accuracy: 99.85%\n",
            "Test loss: 1.03191 | Test accuracy: 80.13%\n",
            "\n",
            "\n",
            "Epoch: 43\n",
            "---------\n",
            "Train loss: 0.00680 | Train accuracy: 99.85%\n",
            "Test loss: 1.02505 | Test accuracy: 80.10%\n",
            "\n",
            "\n",
            "Epoch: 44\n",
            "---------\n",
            "Train loss: 0.00680 | Train accuracy: 99.81%\n",
            "Test loss: 1.03192 | Test accuracy: 80.02%\n",
            "\n",
            "\n",
            "Epoch: 45\n",
            "---------\n",
            "Train loss: 0.00646 | Train accuracy: 99.84%\n",
            "Test loss: 1.03392 | Test accuracy: 80.14%\n",
            "\n",
            "\n",
            "Epoch: 46\n",
            "---------\n",
            "Train loss: 0.00682 | Train accuracy: 99.86%\n",
            "Test loss: 1.03381 | Test accuracy: 80.15%\n",
            "\n",
            "\n",
            "Epoch: 47\n",
            "---------\n",
            "Train loss: 0.00674 | Train accuracy: 99.83%\n",
            "Test loss: 1.03414 | Test accuracy: 80.00%\n",
            "\n",
            "\n",
            "Epoch: 48\n",
            "---------\n",
            "Train loss: 0.00707 | Train accuracy: 99.84%\n",
            "Test loss: 1.04075 | Test accuracy: 80.15%\n",
            "\n",
            "\n",
            "Epoch: 49\n",
            "---------\n",
            "Train loss: 0.00582 | Train accuracy: 99.87%\n",
            "Test loss: 1.04091 | Test accuracy: 80.10%\n",
            "\n"
          ]
        },
        {
          "output_type": "display_data",
          "data": {
            "text/plain": [
              "<Figure size 1200x600 with 2 Axes>"
            ],
            "image/png": "[encoded data removed]"
          },
          "metadata": {}
        }
      ]
    },
    {
      "cell_type": "markdown",
      "source": [
        "### Zapisywanie modelu"
      ],
      "metadata": {
        "id": "YfyCFSe0r0_x"
      }
    },
    {
      "cell_type": "code",
      "source": [
        "torch.save(model.state_dict(), '/content/drive/MyDrive/WUM/Model/Model_CNN1_2.pth')"
      ],
      "metadata": {
        "id": "rf0HPqVmpgqd"
      },
      "execution_count": 158,
      "outputs": []
    },
    {
      "cell_type": "markdown",
      "source": [
        "## Ewaluacja"
      ],
      "metadata": {
        "id": "cHjymxvyEqUG"
      }
    },
    {
      "cell_type": "code",
      "source": [
        "# imports\n",
        "import time\n",
        "import random\n",
        "\n",
        "import numpy as np\n",
        "import seaborn as sns\n",
        "import matplotlib.pyplot as plt\n",
        "import ast\n",
        "import librosa\n",
        "\n",
        "import torch\n",
        "import torch.nn as nn\n",
        "import torch.optim as optim\n",
        "!pip -q install torchmetrics\n",
        "from torchmetrics import Accuracy\n",
        "import IPython.display as ipd\n",
        "from sklearn.preprocessing import StandardScaler\n",
        "from sklearn.metrics import confusion_matrix\n",
        "\n",
        "from torch.utils.data import Dataset, DataLoader\n",
        "import pandas as pd\n",
        "\n",
        "import warnings\n",
        "warnings.filterwarnings('ignore')\n",
        "\n",
        "device = 'cuda' if torch.cuda.is_available() else 'cpu'"
      ],
      "metadata": {
        "id": "s4d4nxNiI3sX"
      },
      "execution_count": 159,
      "outputs": []
    },
    {
      "cell_type": "markdown",
      "source": [
        "### Wczytanie modelu"
      ],
      "metadata": {
        "id": "Y4wQekoWr3gp"
      }
    },
    {
      "cell_type": "code",
      "source": [
        "#model = LSTM(in_features, hidden_nodes, num_layers, out_features).to(device)\n",
        "model = CNN(sequence_length=1, out_features=6).to(device)\n",
        "#model = CNNLSTM(sequence_length, out_features).to(device)\n",
        "loss_fn = torch.nn.CrossEntropyLoss()\n",
        "acc_fn = Accuracy(task=\"multiclass\", num_classes=6).to(device) # send accuracy function to device\n",
        "\n",
        "model.load_state_dict(torch.load('/content/drive/MyDrive/WUM/Model/Model_CNN1.pth', map_location=torch.device(device)))"
      ],
      "metadata": {
        "colab": {
          "base_uri": "https://localhost:8080/"
        },
        "id": "Sz92-jRSr7-W",
        "outputId": "12ae03df-a577-4ab2-cb3b-7d9a5831f237"
      },
      "execution_count": 160,
      "outputs": [
        {
          "output_type": "execute_result",
          "data": {
            "text/plain": [
              "<All keys matched successfully>"
            ]
          },
          "metadata": {},
          "execution_count": 160
        }
      ]
    },
    {
      "cell_type": "markdown",
      "metadata": {
        "id": "o5U4A71QyIYW"
      },
      "source": [
        "### Funkcja do ewaluacji"
      ]
    },
    {
      "cell_type": "code",
      "execution_count": 161,
      "metadata": {
        "id": "5x9lxxPiyGYQ"
      },
      "outputs": [],
      "source": [
        "def eval_model(model: torch.nn.Module,\n",
        "               data_loader: torch.utils.data.DataLoader,\n",
        "               loss_fn: torch.nn.Module,\n",
        "               accuracy_fn,\n",
        "               device: str):\n",
        "    \"\"\"Returns a dictionary containing the results of model predicting on data_loader.\n",
        "\n",
        "    Args:\n",
        "        model (torch.nn.Module): A PyTorch model capable of making predictions on data_loader.\n",
        "        data_loader (torch.utils.data.DataLoader): The target dataset to predict on.\n",
        "        loss_fn (torch.nn.Module): The loss function of model.\n",
        "        accuracy_fn: An accuracy function to compare the models predictions to the truth labels.\n",
        "        device: 'cuda' or 'cpu'\n",
        "\n",
        "    Returns:\n",
        "        (dict): Results of model making predictions on data_loader.\n",
        "    \"\"\"\n",
        "    loss, acc = 0, 0\n",
        "    model.eval()\n",
        "    with torch.inference_mode():\n",
        "        for X, y in data_loader:\n",
        "            # Make predictions with the model\n",
        "            X, y = X.to(device), y.to(device)\n",
        "\n",
        "            y_pred = model(X).to(device)\n",
        "\n",
        "            # Accumulate the loss and accuracy values per batch\n",
        "            loss += loss_fn(y_pred, y)\n",
        "            acc += accuracy_fn(y,\n",
        "                                y_pred.argmax(dim=1)) # For accuracy, need the prediction labels (logits -> pred_prob -> pred_labels)\n",
        "\n",
        "        # Scale loss and acc to find the average loss/acc per batch\n",
        "        loss /= len(data_loader)\n",
        "        acc /= len(data_loader)\n",
        "\n",
        "    return {\"model_name\": model.__class__.__name__, # only works when model was created with a class\n",
        "            \"model_loss\": loss.item(),\n",
        "            \"model_acc\": acc.item()}\n"
      ]
    },
    {
      "cell_type": "markdown",
      "source": [
        "### Ewaluacja modelu"
      ],
      "metadata": {
        "id": "Slpa9CVJuojz"
      }
    },
    {
      "cell_type": "code",
      "source": [
        "class torchDataset(Dataset):\n",
        "    \"\"\"\n",
        "    A custom Dataset class for loading features and labels from a CSV file,\n",
        "    where features are stored as string representations of lists that need\n",
        "    to be converted to numpy arrays and then to Torch tensors.\n",
        "    \"\"\"\n",
        "    def __init__(self, csv_file, device: str):\n",
        "        \"\"\"\n",
        "        Args:\n",
        "            csv_file (str): Path to the CSV file.\n",
        "        \"\"\"\n",
        "        # Load the data from a CSV file\n",
        "        self.df = pd.read_csv(csv_file)\n",
        "\n",
        "        # Convert features from strings to numpy arrays\n",
        "        self.features = [self.convert_string_to_array(feature_string)\n",
        "                         for feature_string in self.df['Features']]\n",
        "        self.features = np.vstack(self.features)  # Stack to create a 2D array\n",
        "        self.features = torch.tensor(self.features, dtype=torch.float, device = device)  # Convert to torch.Tensor\n",
        "        self.features = torch.tensor(self.features, dtype=torch.float, device = device).unsqueeze(1)  # Add dimension | MODEL DIMENSIONS = [batch_size, sequence_length, input_length]\n",
        "\n",
        "        # Convert labels to a torch tensor\n",
        "        self.labels = torch.tensor(self.df['labels'].values, dtype=torch.long)\n",
        "\n",
        "    def convert_string_to_array(self, feature_string):\n",
        "        \"\"\"\n",
        "        Converts a string representation of a list into a numpy array.\n",
        "        \"\"\"\n",
        "        try:\n",
        "            # Parse the string to a list\n",
        "            feature_list = ast.literal_eval(feature_string)\n",
        "            return np.array(feature_list, dtype=float)\n",
        "        except Exception as e:\n",
        "            print(f\"Error parsing string to array: {e}\")\n",
        "            return np.array([], dtype=float)\n",
        "\n",
        "    def __len__(self):\n",
        "        \"\"\"\n",
        "        Returns the total number of samples in the dataset.\n",
        "        \"\"\"\n",
        "        return len(self.df)\n",
        "\n",
        "    def __getitem__(self, idx):\n",
        "        \"\"\"\n",
        "        Retrieves the feature tensor and label for a given index.\n",
        "\n",
        "        Args:\n",
        "            idx (int): Index of the data point to retrieve.\n",
        "\n",
        "        Returns:\n",
        "            tuple: (feature, label) where feature is a tensor of features and label is a single value tensor.\n",
        "        \"\"\"\n",
        "        feature = self.features[idx]\n",
        "        label = self.labels[idx]\n",
        "        return feature, label"
      ],
      "metadata": {
        "id": "HOwpWG16Kf27"
      },
      "execution_count": 162,
      "outputs": []
    },
    {
      "cell_type": "code",
      "source": [
        "TEST_PATH = '/content/drive/MyDrive/WUM/Test/test_labels_features_dataframe.csv'\n",
        "test_data = torchDataset(TEST_PATH,device)\n",
        "test_dataloader = DataLoader(test_data,\n",
        "                              batch_size=128)"
      ],
      "metadata": {
        "id": "c0JqB1wqu1i9"
      },
      "execution_count": 163,
      "outputs": []
    },
    {
      "cell_type": "code",
      "source": [
        "model_ = eval_model(model=model,\n",
        "           data_loader=test_dataloader,\n",
        "           loss_fn = loss_fn,\n",
        "           accuracy_fn = acc_fn,\n",
        "           device = device)\n",
        "model_"
      ],
      "metadata": {
        "colab": {
          "base_uri": "https://localhost:8080/"
        },
        "id": "tpBPZ7q0uqkA",
        "outputId": "0861f4c5-0ee1-4a2b-c86f-cf4c870ff06e"
      },
      "execution_count": 164,
      "outputs": [
        {
          "output_type": "execute_result",
          "data": {
            "text/plain": [
              "{'model_name': 'CNN',\n",
              " 'model_loss': 0.9968504309654236,\n",
              " 'model_acc': 0.8024962544441223}"
            ]
          },
          "metadata": {},
          "execution_count": 164
        }
      ]
    },
    {
      "cell_type": "markdown",
      "source": [
        "Zczyatnie z pliku ścieżek plików audio (paths) i etykiet (labels)"
      ],
      "metadata": {
        "id": "mlfwDHUyF6IO"
      }
    },
    {
      "cell_type": "code",
      "source": [
        "df = pd.read_csv('/content/drive/MyDrive/WUM/Recordings_Dataframe/data_path_WUM.csv')\n",
        "\n",
        "paths = df[\"Speech\"].tolist()\n",
        "labels = df[\"labels\"].tolist()"
      ],
      "metadata": {
        "id": "eHJpRCkXF5f_"
      },
      "execution_count": 165,
      "outputs": []
    },
    {
      "cell_type": "code",
      "source": [
        "# Metoda MFCC\n",
        "def extract_mfcc(n, y, sr):\n",
        "    mfccs = librosa.feature.mfcc(y=y, sr=sr, n_mfcc=n,hop_length=512)\n",
        "    mfccs = np.mean(mfccs.T, axis=0)\n",
        "    return mfccs\n",
        "\n",
        "# Metoda Root Mean Squeare - RMS\n",
        "def extract_rms(y):\n",
        "    rms = np.mean(librosa.feature.rms(y=y,frame_length=2048,hop_length=512)[0])\n",
        "    return np.squeeze(rms)\n",
        "\n",
        "# Metoda Chroma-STFT\n",
        "def extract_chroma(n, y, sr):\n",
        "    chroma = librosa.feature.chroma_stft(y=y, sr=sr, n_chroma = n, hop_length=512)\n",
        "    chroma = np.mean(chroma.T, axis=0)\n",
        "    return chroma\n",
        "\n",
        "# Metoda Zero Crossing Rate - ZCR\n",
        "def extract_zcr(y):\n",
        "  zcr = np.mean(librosa.feature.zero_crossing_rate(y=y,frame_length=2048,hop_length=512)[0])\n",
        "  return np.squeeze(zcr)"
      ],
      "metadata": {
        "id": "8cZijoO4Ahfq"
      },
      "execution_count": 166,
      "outputs": []
    },
    {
      "cell_type": "code",
      "source": [
        "def extract_features(path):\n",
        "  y, sr = librosa.load(path, duration=2.5, offset=0.5)\n",
        "  result = np.hstack((\n",
        "      extract_zcr(y),\n",
        "      extract_rms(y),\n",
        "      extract_mfcc(42,y,sr),\n",
        "      extract_chroma(24,y,sr)\n",
        "  ))\n",
        "  result = np.array(result)\n",
        "  #result = np.zeros(68)\n",
        "  return result"
      ],
      "metadata": {
        "id": "3bMOZSWREX3W"
      },
      "execution_count": 167,
      "outputs": []
    },
    {
      "cell_type": "markdown",
      "source": [
        "### Predykcja na dziesięciu losowych plikach audio"
      ],
      "metadata": {
        "id": "dlyI0pBQAdgZ"
      }
    },
    {
      "cell_type": "markdown",
      "source": [
        "Wybranie radnomowej próbki z bazy danych"
      ],
      "metadata": {
        "id": "7wusXiJnGn2s"
      }
    },
    {
      "cell_type": "code",
      "source": [
        "#N_samples = 10\n",
        "#sample_list = []\n",
        "#for i in range(N_samples):\n",
        "random_sample_index = random.randint(0, len(paths) - 1)\n",
        "random_sample_path = paths[random_sample_index]\n",
        "random_sample_label = labels[random_sample_index]\n",
        "\n",
        "ipd.Audio(random_sample_path)\n",
        "\n",
        "def get_prediction_input(path):\n",
        "  features = extract_features(path)\n",
        "  features = features.astype(np.float32)\n",
        "  features = np.expand_dims(features, axis=0)\n",
        "  features = scaler.transform(features)\n",
        "  features = np.expand_dims(features, axis=0)\n",
        "  return torch.from_numpy(features).to(device)\n",
        "\n",
        "features = get_prediction_input(random_sample_path)\n",
        "random_sample_label"
      ],
      "metadata": {
        "colab": {
          "base_uri": "https://localhost:8080/",
          "height": 36
        },
        "id": "OQPXc7RTGs6J",
        "outputId": "1c84059d-c114-42b6-b506-8ecd81e3b0ea"
      },
      "execution_count": 168,
      "outputs": [
        {
          "output_type": "execute_result",
          "data": {
            "text/plain": [
              "'fear'"
            ],
            "application/vnd.google.colaboratory.intrinsic+json": {
              "type": "string"
            }
          },
          "metadata": {},
          "execution_count": 168
        }
      ]
    },
    {
      "cell_type": "code",
      "source": [
        "emotions={0: \"angry\",1: \"happy\", 2: \"sad\", 3: \"disgust\", 4: \"fear\", 5: \"neutral\"}\n",
        "def predict(path):\n",
        "  data = get_prediction_input(path)\n",
        "  model.eval()\n",
        "  with torch.inference_mode():\n",
        "    prediction = model(data).to(device)\n",
        "    predicted_class = prediction.argmax(dim=1)\n",
        "    return predicted_class[0]\n",
        "\n",
        "print(emotions[int(predict((random_sample_path)))])"
      ],
      "metadata": {
        "colab": {
          "base_uri": "https://localhost:8080/"
        },
        "id": "KCfQ0rCdQAl9",
        "outputId": "fd0e92b9-d081-41cc-eba0-1319d2dc05f9"
      },
      "execution_count": 169,
      "outputs": [
        {
          "output_type": "stream",
          "name": "stdout",
          "text": [
            "fear\n"
          ]
        }
      ]
    },
    {
      "cell_type": "code",
      "source": [
        "def batch_predict(dataloader):\n",
        "    all_predictions = []\n",
        "    all_labels = []\n",
        "\n",
        "    model.eval()\n",
        "    with torch.no_grad():  # torch.inference_mode() if you're using PyTorch 1.9 or later\n",
        "        for batch, (data, labels) in enumerate(dataloader):\n",
        "            data = data.to(device)  # ensure data is on the right device\n",
        "            predictions = model(data)\n",
        "            _, predicted_classes = torch.max(predictions, 1)\n",
        "\n",
        "            all_predictions.extend(predicted_classes.cpu().numpy())  # collect predictions\n",
        "            all_labels.extend(labels.cpu().numpy())  # collect actual labels\n",
        "            if batch % 500 == 0:\n",
        "                print(batch)\n",
        "\n",
        "    return all_predictions, all_labels\n",
        "\n",
        "predictions, labels = batch_predict(test_dataloader)"
      ],
      "metadata": {
        "colab": {
          "base_uri": "https://localhost:8080/"
        },
        "id": "-h6r0uXvqxeX",
        "outputId": "55b85e9c-07ff-4e0e-e7f6-89698e8ce6ed"
      },
      "execution_count": 170,
      "outputs": [
        {
          "output_type": "stream",
          "name": "stdout",
          "text": [
            "0\n"
          ]
        }
      ]
    },
    {
      "cell_type": "code",
      "source": [
        "conf_matrix = confusion_matrix(labels, predictions)\n",
        "emotions = {0: \"angry\", 1: \"happy\", 2: \"sad\", 3: \"disgust\", 4: \"fear\", 5: \"neutral\"}\n",
        "\n",
        "sns.heatmap(conf_matrix, annot=True, fmt='g',\n",
        "            cmap='Blues',annot_kws={\"size\": 12},\n",
        "            xticklabels=list(emotions.values()),\n",
        "            yticklabels=list(emotions.values()))\n",
        "plt.xlabel('Predicted')\n",
        "\n",
        "plt.ylabel('True')\n",
        "plt.yticks(rotation=0)\n",
        "plt.title('Confusion Matrix')\n",
        "plt.show()"
      ],
      "metadata": {
        "colab": {
          "base_uri": "https://localhost:8080/",
          "height": 485
        },
        "id": "szliXPWmtl7m",
        "outputId": "193c0e2d-2f63-4344-9af7-e344406f69ad"
      },
      "execution_count": 171,
      "outputs": [
        {
          "output_type": "display_data",
          "data": {
            "text/plain": [
              "<Figure size 640x480 with 2 Axes>"
            ],
            "image/png": "[encoded data removed]"
          },
          "metadata": {}
        }
      ]
    }
  ],
  "metadata": {
    "colab": {
      "provenance": [],
      "collapsed_sections": [
        "R211NokQyUiO",
        "VX2xevSvyw8B"
      ],
      "gpuType": "L4",
      "toc_visible": true,
      "machine_shape": "hm",
      "mount_file_id": "1fLJfghaIfrT65w2UrRmKiqbDCLmADJnf",
      "authorship_tag": "ABX9TyO7YDM5htLLITCISPswEDUU",
      "include_colab_link": true
    },
    "kernelspec": {
      "display_name": "Python 3",
      "name": "python3"
    },
    "language_info": {
      "name": "python"
    },
    "accelerator": "GPU",
    "widgets": {
      "application/vnd.jupyter.widget-state+json": {
        "e59afdd7e8e5436fa59279da11048236": {
          "model_module": "@jupyter-widgets/controls",
          "model_name": "HBoxModel",
          "model_module_version": "1.5.0",
          "state": {
            "_dom_classes": [],
            "_model_module": "@jupyter-widgets/controls",
            "_model_module_version": "1.5.0",
            "_model_name": "HBoxModel",
            "_view_count": null,
            "_view_module": "@jupyter-widgets/controls",
            "_view_module_version": "1.5.0",
            "_view_name": "HBoxView",
            "box_style": "",
            "children": [
              "IPY_MODEL_ec11186228634ccf8b21d5a6edbd51ae",
              "IPY_MODEL_4bb7ad9551d2483eb6e784f8dc96684e",
              "IPY_MODEL_402e7298c6ac4efebdc233d344e0a596"
            ],
            "layout": "IPY_MODEL_3826f048ba86474c9949cb35a8117022"
          }
        },
        "ec11186228634ccf8b21d5a6edbd51ae": {
          "model_module": "@jupyter-widgets/controls",
          "model_name": "HTMLModel",
          "model_module_version": "1.5.0",
          "state": {
            "_dom_classes": [],
            "_model_module": "@jupyter-widgets/controls",
            "_model_module_version": "1.5.0",
            "_model_name": "HTMLModel",
            "_view_count": null,
            "_view_module": "@jupyter-widgets/controls",
            "_view_module_version": "1.5.0",
            "_view_name": "HTMLView",
            "description": "",
            "description_tooltip": null,
            "layout": "IPY_MODEL_d59d470e7de442cd97782770288f54cc",
            "placeholder": "​",
            "style": "IPY_MODEL_c3122e4029b245e3bce680a8b1020a02",
            "value": "100%"
          }
        },
        "4bb7ad9551d2483eb6e784f8dc96684e": {
          "model_module": "@jupyter-widgets/controls",
          "model_name": "FloatProgressModel",
          "model_module_version": "1.5.0",
          "state": {
            "_dom_classes": [],
            "_model_module": "@jupyter-widgets/controls",
            "_model_module_version": "1.5.0",
            "_model_name": "FloatProgressModel",
            "_view_count": null,
            "_view_module": "@jupyter-widgets/controls",
            "_view_module_version": "1.5.0",
            "_view_name": "ProgressView",
            "bar_style": "success",
            "description": "",
            "description_tooltip": null,
            "layout": "IPY_MODEL_ef49d261d01043439139988e7ecddbfb",
            "max": 50,
            "min": 0,
            "orientation": "horizontal",
            "style": "IPY_MODEL_0e7488579a1642b88acff08cdcc2b362",
            "value": 50
          }
        },
        "402e7298c6ac4efebdc233d344e0a596": {
          "model_module": "@jupyter-widgets/controls",
          "model_name": "HTMLModel",
          "model_module_version": "1.5.0",
          "state": {
            "_dom_classes": [],
            "_model_module": "@jupyter-widgets/controls",
            "_model_module_version": "1.5.0",
            "_model_name": "HTMLModel",
            "_view_count": null,
            "_view_module": "@jupyter-widgets/controls",
            "_view_module_version": "1.5.0",
            "_view_name": "HTMLView",
            "description": "",
            "description_tooltip": null,
            "layout": "IPY_MODEL_18a0dd9b63524953b55ea09a17fbc6ba",
            "placeholder": "​",
            "style": "IPY_MODEL_364779ac96ec47909d625aa726b47417",
            "value": " 50/50 [07:34&lt;00:00,  9.09s/it]"
          }
        },
        "3826f048ba86474c9949cb35a8117022": {
          "model_module": "@jupyter-widgets/base",
          "model_name": "LayoutModel",
          "model_module_version": "1.2.0",
          "state": {
            "_model_module": "@jupyter-widgets/base",
            "_model_module_version": "1.2.0",
            "_model_name": "LayoutModel",
            "_view_count": null,
            "_view_module": "@jupyter-widgets/base",
            "_view_module_version": "1.2.0",
            "_view_name": "LayoutView",
            "align_content": null,
            "align_items": null,
            "align_self": null,
            "border": null,
            "bottom": null,
            "display": null,
            "flex": null,
            "flex_flow": null,
            "grid_area": null,
            "grid_auto_columns": null,
            "grid_auto_flow": null,
            "grid_auto_rows": null,
            "grid_column": null,
            "grid_gap": null,
            "grid_row": null,
            "grid_template_areas": null,
            "grid_template_columns": null,
            "grid_template_rows": null,
            "height": null,
            "justify_content": null,
            "justify_items": null,
            "left": null,
            "margin": null,
            "max_height": null,
            "max_width": null,
            "min_height": null,
            "min_width": null,
            "object_fit": null,
            "object_position": null,
            "order": null,
            "overflow": null,
            "overflow_x": null,
            "overflow_y": null,
            "padding": null,
            "right": null,
            "top": null,
            "visibility": null,
            "width": null
          }
        },
        "d59d470e7de442cd97782770288f54cc": {
          "model_module": "@jupyter-widgets/base",
          "model_name": "LayoutModel",
          "model_module_version": "1.2.0",
          "state": {
            "_model_module": "@jupyter-widgets/base",
            "_model_module_version": "1.2.0",
            "_model_name": "LayoutModel",
            "_view_count": null,
            "_view_module": "@jupyter-widgets/base",
            "_view_module_version": "1.2.0",
            "_view_name": "LayoutView",
            "align_content": null,
            "align_items": null,
            "align_self": null,
            "border": null,
            "bottom": null,
            "display": null,
            "flex": null,
            "flex_flow": null,
            "grid_area": null,
            "grid_auto_columns": null,
            "grid_auto_flow": null,
            "grid_auto_rows": null,
            "grid_column": null,
            "grid_gap": null,
            "grid_row": null,
            "grid_template_areas": null,
            "grid_template_columns": null,
            "grid_template_rows": null,
            "height": null,
            "justify_content": null,
            "justify_items": null,
            "left": null,
            "margin": null,
            "max_height": null,
            "max_width": null,
            "min_height": null,
            "min_width": null,
            "object_fit": null,
            "object_position": null,
            "order": null,
            "overflow": null,
            "overflow_x": null,
            "overflow_y": null,
            "padding": null,
            "right": null,
            "top": null,
            "visibility": null,
            "width": null
          }
        },
        "c3122e4029b245e3bce680a8b1020a02": {
          "model_module": "@jupyter-widgets/controls",
          "model_name": "DescriptionStyleModel",
          "model_module_version": "1.5.0",
          "state": {
            "_model_module": "@jupyter-widgets/controls",
            "_model_module_version": "1.5.0",
            "_model_name": "DescriptionStyleModel",
            "_view_count": null,
            "_view_module": "@jupyter-widgets/base",
            "_view_module_version": "1.2.0",
            "_view_name": "StyleView",
            "description_width": ""
          }
        },
        "ef49d261d01043439139988e7ecddbfb": {
          "model_module": "@jupyter-widgets/base",
          "model_name": "LayoutModel",
          "model_module_version": "1.2.0",
          "state": {
            "_model_module": "@jupyter-widgets/base",
            "_model_module_version": "1.2.0",
            "_model_name": "LayoutModel",
            "_view_count": null,
            "_view_module": "@jupyter-widgets/base",
            "_view_module_version": "1.2.0",
            "_view_name": "LayoutView",
            "align_content": null,
            "align_items": null,
            "align_self": null,
            "border": null,
            "bottom": null,
            "display": null,
            "flex": null,
            "flex_flow": null,
            "grid_area": null,
            "grid_auto_columns": null,
            "grid_auto_flow": null,
            "grid_auto_rows": null,
            "grid_column": null,
            "grid_gap": null,
            "grid_row": null,
            "grid_template_areas": null,
            "grid_template_columns": null,
            "grid_template_rows": null,
            "height": null,
            "justify_content": null,
            "justify_items": null,
            "left": null,
            "margin": null,
            "max_height": null,
            "max_width": null,
            "min_height": null,
            "min_width": null,
            "object_fit": null,
            "object_position": null,
            "order": null,
            "overflow": null,
            "overflow_x": null,
            "overflow_y": null,
            "padding": null,
            "right": null,
            "top": null,
            "visibility": null,
            "width": null
          }
        },
        "0e7488579a1642b88acff08cdcc2b362": {
          "model_module": "@jupyter-widgets/controls",
          "model_name": "ProgressStyleModel",
          "model_module_version": "1.5.0",
          "state": {
            "_model_module": "@jupyter-widgets/controls",
            "_model_module_version": "1.5.0",
            "_model_name": "ProgressStyleModel",
            "_view_count": null,
            "_view_module": "@jupyter-widgets/base",
            "_view_module_version": "1.2.0",
            "_view_name": "StyleView",
            "bar_color": null,
            "description_width": ""
          }
        },
        "18a0dd9b63524953b55ea09a17fbc6ba": {
          "model_module": "@jupyter-widgets/base",
          "model_name": "LayoutModel",
          "model_module_version": "1.2.0",
          "state": {
            "_model_module": "@jupyter-widgets/base",
            "_model_module_version": "1.2.0",
            "_model_name": "LayoutModel",
            "_view_count": null,
            "_view_module": "@jupyter-widgets/base",
            "_view_module_version": "1.2.0",
            "_view_name": "LayoutView",
            "align_content": null,
            "align_items": null,
            "align_self": null,
            "border": null,
            "bottom": null,
            "display": null,
            "flex": null,
            "flex_flow": null,
            "grid_area": null,
            "grid_auto_columns": null,
            "grid_auto_flow": null,
            "grid_auto_rows": null,
            "grid_column": null,
            "grid_gap": null,
            "grid_row": null,
            "grid_template_areas": null,
            "grid_template_columns": null,
            "grid_template_rows": null,
            "height": null,
            "justify_content": null,
            "justify_items": null,
            "left": null,
            "margin": null,
            "max_height": null,
            "max_width": null,
            "min_height": null,
            "min_width": null,
            "object_fit": null,
            "object_position": null,
            "order": null,
            "overflow": null,
            "overflow_x": null,
            "overflow_y": null,
            "padding": null,
            "right": null,
            "top": null,
            "visibility": null,
            "width": null
          }
        },
        "364779ac96ec47909d625aa726b47417": {
          "model_module": "@jupyter-widgets/controls",
          "model_name": "DescriptionStyleModel",
          "model_module_version": "1.5.0",
          "state": {
            "_model_module": "@jupyter-widgets/controls",
            "_model_module_version": "1.5.0",
            "_model_name": "DescriptionStyleModel",
            "_view_count": null,
            "_view_module": "@jupyter-widgets/base",
            "_view_module_version": "1.2.0",
            "_view_name": "StyleView",
            "description_width": ""
          }
        }
      }
    }
  },
  "nbformat": 4,
  "nbformat_minor": 0
}